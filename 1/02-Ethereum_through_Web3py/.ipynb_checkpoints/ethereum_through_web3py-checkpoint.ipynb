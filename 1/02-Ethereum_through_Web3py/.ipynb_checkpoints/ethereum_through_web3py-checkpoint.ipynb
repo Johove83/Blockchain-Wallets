{
 "cells": [
  {
   "cell_type": "code",
   "execution_count": 1,
   "id": "91d0906d-f32a-456e-87a4-3c7330a7a3f5",
   "metadata": {},
   "outputs": [],
   "source": [
    "# Imports"
   ]
  },
  {
   "cell_type": "code",
   "execution_count": 2,
   "id": "2cd44bbe-cf85-4e2f-aba1-3b74a07aa73f",
   "metadata": {},
   "outputs": [],
   "source": [
    "from web3 import Web3, EthereumTesterProvider"
   ]
  },
  {
   "cell_type": "code",
   "execution_count": 3,
   "id": "3139d4e1-4f93-4d0e-bb44-c0136200c8c8",
   "metadata": {},
   "outputs": [],
   "source": [
    "# Create an instance of Web3 with a contained instance of EthereumTesterProvider"
   ]
  },
  {
   "cell_type": "code",
   "execution_count": 4,
   "id": "6ff54b0c-fb0c-4d0d-991e-fb4c5f4f3dad",
   "metadata": {},
   "outputs": [
    {
     "name": "stderr",
     "output_type": "stream",
     "text": [
      "C:\\Users\\Public\\anaconda3\\envs\\dev\\lib\\site-packages\\eth_tester\\backends\\__init__.py:31: UserWarning: Ethereum Tester: No backend was explicitely set, and no *full* backends were available.  Falling back to the `MockBackend` which does not support all EVM functionality.  Please refer to the `eth-tester` documentation for information on what backends are available and how to set them.\n",
      "  \"Ethereum Tester: No backend was explicitely set, and no *full* \"\n"
     ]
    }
   ],
   "source": [
    "w3 = Web3(EthereumTesterProvider())"
   ]
  },
  {
   "cell_type": "code",
   "execution_count": 5,
   "id": "ab8f9c22-0f10-4d8c-aac5-002024431b59",
   "metadata": {},
   "outputs": [],
   "source": [
    "# Call `w3.eth.get_block('latest')`, and print the result to check that your mock blockchain is working."
   ]
  },
  {
   "cell_type": "code",
   "execution_count": 6,
   "id": "5b072c07-ee4a-4897-933a-f29bdc29c5f5",
   "metadata": {},
   "outputs": [
    {
     "name": "stdout",
     "output_type": "stream",
     "text": [
      "AttributeDict({'number': 0, 'parentHash': HexBytes('0x0000000000000000000000000000000000000000000000000000000000000000'), 'nonce': HexBytes('0x000000000000002a'), 'sha3Uncles': HexBytes('0x1dcc4de8dec75d7aab85b567b6ccd41ad312451b948a7413f0a142fd40d49347'), 'logs_bloom': 0, 'transactionsRoot': HexBytes('0x56e81f171bcc55a6ff8345e692c0f86e5b48e01b996cadc001622fb5e363b421'), 'receipts_root': '0x56e81f171bcc55a6ff8345e692c0f86e5b48e01b996cadc001622fb5e363b421', 'stateRoot': HexBytes('0x56e81f171bcc55a6ff8345e692c0f86e5b48e01b996cadc001622fb5e363b421'), 'miner': '0x0000000000000000000000000000000000000000', 'difficulty': 131072, 'totalDifficulty': 131072, 'size': 0, 'extraData': HexBytes('0x0000000000000000000000000000000000000000000000000000000000000000'), 'gasLimit': 3141592, 'gasUsed': 0, 'timestamp': 1667609863, 'transactions': [], 'uncles': [], 'hash': HexBytes('0x7ef7eeba91c62e4f5ae335547c990ae049084771059e9b3442101b80cdcb648e')})\n"
     ]
    }
   ],
   "source": [
    "print(w3.eth.get_block('latest'))"
   ]
  },
  {
   "cell_type": "code",
   "execution_count": 7,
   "id": "432af920-ad3d-45ef-958f-44e5e9f90f18",
   "metadata": {},
   "outputs": [],
   "source": [
    "# Call `w3.eth.accounts`, and print the result to view your available accounts on the blockchain."
   ]
  },
  {
   "cell_type": "code",
   "execution_count": 8,
   "id": "dcbfe491-3cb8-4802-aa33-9d106341a252",
   "metadata": {},
   "outputs": [
    {
     "name": "stdout",
     "output_type": "stream",
     "text": [
      "['0xaBbACadABa000000000000000000000000000000', '0xaBbACaDaBA000000000000000000000000000001', '0xAbbAcaDaBA000000000000000000000000000002', '0xabBACadaBA000000000000000000000000000003', '0xabbAcADABa000000000000000000000000000004', '0xaBBACADABA000000000000000000000000000005', '0xaBbaCadaBA000000000000000000000000000006', '0xAbbAcAdaBA000000000000000000000000000007', '0xaBBAcadabA000000000000000000000000000008', '0xABbacaDabA000000000000000000000000000009']\n"
     ]
    }
   ],
   "source": [
    "print(w3.eth.accounts)"
   ]
  },
  {
   "cell_type": "code",
   "execution_count": 9,
   "id": "86c3fa66-04f4-4f02-bc08-b7cce1e603f8",
   "metadata": {},
   "outputs": [],
   "source": [
    "# Call `w3.eth.get_balance()`, and pass it to one of your available addresses as a string to check the balance of the account on the chain. Save the balance as a \n",
    "# variable named `wei_balance`.Call `w3.eth.get_balance()`, and pass it to one of your available addresses as a string to check the balance of the account on the chain. \n",
    "# Save the balance as a variable named `wei_balance`."
   ]
  },
  {
   "cell_type": "code",
   "execution_count": 10,
   "id": "63420f64-47cb-4170-a128-04436d0c5b15",
   "metadata": {},
   "outputs": [
    {
     "name": "stdout",
     "output_type": "stream",
     "text": [
      "1000000000000000000000000\n"
     ]
    }
   ],
   "source": [
    "# Access the balance of an account using an address from above step\n",
    "wei_balance = w3.eth.get_balance(\"0xaBBACADABA000000000000000000000000000005\")\n",
    "\n",
    "# Print the balance of the account in wei\n",
    "print(wei_balance)"
   ]
  },
  {
   "cell_type": "code",
   "execution_count": 11,
   "id": "786aa82f-3284-4ce4-a7f6-23dac8419dac",
   "metadata": {},
   "outputs": [],
   "source": [
    "# Use the `w3.fromWei` function to convert your balance from wei to ether."
   ]
  },
  {
   "cell_type": "code",
   "execution_count": 12,
   "id": "03ca6a44-721d-40f0-87f6-47f1fc01ae41",
   "metadata": {},
   "outputs": [
    {
     "name": "stdout",
     "output_type": "stream",
     "text": [
      "1000000\n"
     ]
    }
   ],
   "source": [
    "# Convert the balance from wei to ether\n",
    "eth_balance = w3.fromWei(wei_balance, 'ether')\n",
    "\n",
    "# Print the balance in ether\n",
    "print(eth_balance)"
   ]
  }
 ],
 "metadata": {
  "kernelspec": {
   "display_name": "Python 3 (ipykernel)",
   "language": "python",
   "name": "python3"
  },
  "language_info": {
   "codemirror_mode": {
    "name": "ipython",
    "version": 3
   },
   "file_extension": ".py",
   "mimetype": "text/x-python",
   "name": "python",
   "nbconvert_exporter": "python",
   "pygments_lexer": "ipython3",
   "version": "3.7.13"
  }
 },
 "nbformat": 4,
 "nbformat_minor": 5
}
