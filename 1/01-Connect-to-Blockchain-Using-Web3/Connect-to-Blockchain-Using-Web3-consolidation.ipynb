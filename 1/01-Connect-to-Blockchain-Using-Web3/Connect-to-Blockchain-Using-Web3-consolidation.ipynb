{
 "cells": [
  {
   "cell_type": "code",
   "execution_count": 1,
   "id": "7b1d51d4-6e14-433b-96d9-65e7ed489b05",
   "metadata": {},
   "outputs": [
    {
     "name": "stderr",
     "output_type": "stream",
     "text": [
      "C:\\Users\\Public\\anaconda3\\envs\\dev\\lib\\site-packages\\eth_tester\\backends\\__init__.py:31: UserWarning: Ethereum Tester: No backend was explicitely set, and no *full* backends were available.  Falling back to the `MockBackend` which does not support all EVM functionality.  Please refer to the `eth-tester` documentation for information on what backends are available and how to set them.\n",
      "  \"Ethereum Tester: No backend was explicitely set, and no *full* \"\n"
     ]
    },
    {
     "data": {
      "text/plain": [
       "AttributeDict({'number': 0,\n",
       " 'parentHash': HexBytes('0x0000000000000000000000000000000000000000000000000000000000000000'),\n",
       " 'nonce': HexBytes('0x000000000000002a'),\n",
       " 'sha3Uncles': HexBytes('0x1dcc4de8dec75d7aab85b567b6ccd41ad312451b948a7413f0a142fd40d49347'),\n",
       " 'logs_bloom': 0,\n",
       " 'transactionsRoot': HexBytes('0x56e81f171bcc55a6ff8345e692c0f86e5b48e01b996cadc001622fb5e363b421'),\n",
       " 'receipts_root': '0x56e81f171bcc55a6ff8345e692c0f86e5b48e01b996cadc001622fb5e363b421',\n",
       " 'stateRoot': HexBytes('0x56e81f171bcc55a6ff8345e692c0f86e5b48e01b996cadc001622fb5e363b421'),\n",
       " 'miner': '0x0000000000000000000000000000000000000000',\n",
       " 'difficulty': 131072,\n",
       " 'totalDifficulty': 131072,\n",
       " 'size': 0,\n",
       " 'extraData': HexBytes('0x0000000000000000000000000000000000000000000000000000000000000000'),\n",
       " 'gasLimit': 3141592,\n",
       " 'gasUsed': 0,\n",
       " 'timestamp': 1667870841,\n",
       " 'transactions': [],\n",
       " 'uncles': [],\n",
       " 'hash': HexBytes('0xa5bc0f84563cf86c2ff950cad0c874400118592f4784437651052efb2379926f')})"
      ]
     },
     "execution_count": 1,
     "metadata": {},
     "output_type": "execute_result"
    }
   ],
   "source": [
    "from web3 import Web3, EthereumTesterProvider\n",
    "w3 = Web3(EthereumTesterProvider())\n",
    "w3.eth.get_block('latest')\n",
    "\n"
   ]
  },
  {
   "cell_type": "code",
   "execution_count": 2,
   "id": "f278bfc4-d67d-4563-a913-8b5a8604c4f4",
   "metadata": {},
   "outputs": [
    {
     "name": "stdout",
     "output_type": "stream",
     "text": [
      "['0xaBbACadABa000000000000000000000000000000', '0xaBbACaDaBA000000000000000000000000000001', '0xAbbAcaDaBA000000000000000000000000000002', '0xabBACadaBA000000000000000000000000000003', '0xabbAcADABa000000000000000000000000000004', '0xaBBACADABA000000000000000000000000000005', '0xaBbaCadaBA000000000000000000000000000006', '0xAbbAcAdaBA000000000000000000000000000007', '0xaBBAcadabA000000000000000000000000000008', '0xABbacaDabA000000000000000000000000000009']\n"
     ]
    }
   ],
   "source": [
    "# Print a list of accounts on the blockchain\n",
    "print(w3.eth.accounts)\n",
    "\n"
   ]
  },
  {
   "cell_type": "code",
   "execution_count": 3,
   "id": "09cf6182-16d4-4b9f-a2e0-63f843a699d3",
   "metadata": {},
   "outputs": [
    {
     "data": {
      "text/plain": [
       "1000000000000000000000000"
      ]
     },
     "execution_count": 3,
     "metadata": {},
     "output_type": "execute_result"
    }
   ],
   "source": [
    "# Access the balance of an account using the address\n",
    "w3.eth.get_balance(\"0xaBbACadABa000000000000000000000000000000\")\n",
    "\n"
   ]
  },
  {
   "cell_type": "code",
   "execution_count": 4,
   "id": "17bd938a-8660-4eec-9abb-0d4601770aa4",
   "metadata": {},
   "outputs": [
    {
     "data": {
      "text/plain": [
       "Decimal('1000000')"
      ]
     },
     "execution_count": 4,
     "metadata": {},
     "output_type": "execute_result"
    }
   ],
   "source": [
    "# Access the balance of an account using the address\n",
    "balance = w3.eth.get_balance(\"0xaBbACadABa000000000000000000000000000000\")\n",
    "\n",
    "# Convert balance from wei to ether\n",
    "w3.fromWei(balance, 'ether')\n"
   ]
  }
 ],
 "metadata": {
  "kernelspec": {
   "display_name": "Python 3 (ipykernel)",
   "language": "python",
   "name": "python3"
  },
  "language_info": {
   "codemirror_mode": {
    "name": "ipython",
    "version": 3
   },
   "file_extension": ".py",
   "mimetype": "text/x-python",
   "name": "python",
   "nbconvert_exporter": "python",
   "pygments_lexer": "ipython3",
   "version": "3.7.13"
  }
 },
 "nbformat": 4,
 "nbformat_minor": 5
}
