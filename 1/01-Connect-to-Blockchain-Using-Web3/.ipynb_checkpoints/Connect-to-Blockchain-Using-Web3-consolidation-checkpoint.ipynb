{
 "cells": [
  {
   "cell_type": "code",
   "execution_count": 1,
   "id": "7b1d51d4-6e14-433b-96d9-65e7ed489b05",
   "metadata": {},
   "outputs": [
    {
     "name": "stdout",
     "output_type": "stream",
     "text": [
      "['0xaBbACadABa000000000000000000000000000000', '0xaBbACaDaBA000000000000000000000000000001', '0xAbbAcaDaBA000000000000000000000000000002', '0xabBACadaBA000000000000000000000000000003', '0xabbAcADABa000000000000000000000000000004', '0xaBBACADABA000000000000000000000000000005', '0xaBbaCadaBA000000000000000000000000000006', '0xAbbAcAdaBA000000000000000000000000000007', '0xaBBAcadabA000000000000000000000000000008', '0xABbacaDabA000000000000000000000000000009']\n"
     ]
    },
    {
     "name": "stderr",
     "output_type": "stream",
     "text": [
      "C:\\Users\\Public\\anaconda3\\envs\\dev\\lib\\site-packages\\eth_tester\\backends\\__init__.py:31: UserWarning: Ethereum Tester: No backend was explicitely set, and no *full* backends were available.  Falling back to the `MockBackend` which does not support all EVM functionality.  Please refer to the `eth-tester` documentation for information on what backends are available and how to set them.\n",
      "  \"Ethereum Tester: No backend was explicitely set, and no *full* \"\n"
     ]
    },
    {
     "data": {
      "text/plain": [
       "Decimal('1000000')"
      ]
     },
     "execution_count": 1,
     "metadata": {},
     "output_type": "execute_result"
    }
   ],
   "source": [
    "from web3 import Web3, EthereumTesterProvider\n",
    "w3 = Web3(EthereumTesterProvider())\n",
    "w3.eth.get_block('latest')\n",
    "\n",
    "# Print a list of accounts on the blockchain\n",
    "print(w3.eth.accounts)\n",
    "\n",
    "# Access the balance of an account using the address\n",
    "w3.eth.get_balance(\"0xaBbACadABa000000000000000000000000000000\")\n",
    "\n",
    "# Access the balance of an account using the address\n",
    "balance = w3.eth.get_balance(\"0xaBbACadABa000000000000000000000000000000\")\n",
    "\n",
    "\n",
    "# Convert balance from wei to ether\n",
    "w3.fromWei(balance, 'ether')"
   ]
  },
  {
   "cell_type": "code",
   "execution_count": null,
   "id": "f278bfc4-d67d-4563-a913-8b5a8604c4f4",
   "metadata": {},
   "outputs": [],
   "source": []
  }
 ],
 "metadata": {
  "kernelspec": {
   "display_name": "Python 3 (ipykernel)",
   "language": "python",
   "name": "python3"
  },
  "language_info": {
   "codemirror_mode": {
    "name": "ipython",
    "version": 3
   },
   "file_extension": ".py",
   "mimetype": "text/x-python",
   "name": "python",
   "nbconvert_exporter": "python",
   "pygments_lexer": "ipython3",
   "version": "3.7.13"
  }
 },
 "nbformat": 4,
 "nbformat_minor": 5
}
