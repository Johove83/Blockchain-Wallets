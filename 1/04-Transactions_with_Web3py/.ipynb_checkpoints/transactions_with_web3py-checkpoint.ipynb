{
 "cells": [
  {
   "cell_type": "code",
   "execution_count": 1,
   "id": "dddc0313-f62e-4e96-b6c2-356c7f53ac94",
   "metadata": {},
   "outputs": [],
   "source": [
    "# imports\n",
    "\n",
    "from web3 import Web3, EthereumTesterProvider"
   ]
  },
  {
   "cell_type": "code",
   "execution_count": 4,
   "id": "ac088580-1934-4233-b567-5b7c2e95b324",
   "metadata": {},
   "outputs": [
    {
     "name": "stderr",
     "output_type": "stream",
     "text": [
      "C:\\Users\\Public\\anaconda3\\envs\\dev\\lib\\site-packages\\eth_tester\\backends\\__init__.py:31: UserWarning: Ethereum Tester: No backend was explicitely set, and no *full* backends were available.  Falling back to the `MockBackend` which does not support all EVM functionality.  Please refer to the `eth-tester` documentation for information on what backends are available and how to set them.\n",
      "  \"Ethereum Tester: No backend was explicitely set, and no *full* \"\n"
     ]
    }
   ],
   "source": [
    "# Create an instance of Web3 and EthereumTesterProvider()\n",
    "\n",
    "w3 = Web3(EthereumTesterProvider())"
   ]
  },
  {
   "cell_type": "code",
   "execution_count": 6,
   "id": "fc5278e4-efc7-4f15-9a03-359cf8a9e570",
   "metadata": {},
   "outputs": [
    {
     "name": "stdout",
     "output_type": "stream",
     "text": [
      "['0xaBbACadABa000000000000000000000000000000', '0xaBbACaDaBA000000000000000000000000000001', '0xAbbAcaDaBA000000000000000000000000000002', '0xabBACadaBA000000000000000000000000000003', '0xabbAcADABa000000000000000000000000000004', '0xaBBACADABA000000000000000000000000000005', '0xaBbaCadaBA000000000000000000000000000006', '0xAbbAcAdaBA000000000000000000000000000007', '0xaBBAcadabA000000000000000000000000000008', '0xABbacaDabA000000000000000000000000000009']\n"
     ]
    }
   ],
   "source": [
    "# Print a list of accounts on the blockchain\n",
    "\n",
    "print(w3.eth.accounts)\n",
    "\n",
    "# Set the sender address\n",
    "\n",
    "sender = '0xAbbAcAdaBA000000000000000000000000000007'\n",
    "\n",
    "# Set the receiver address\n",
    "\n",
    "receiver = '0xaBBACADABA000000000000000000000000000005'"
   ]
  },
  {
   "cell_type": "code",
   "execution_count": 7,
   "id": "7590c447-43fc-4724-87c9-95b9dbac7b91",
   "metadata": {},
   "outputs": [],
   "source": [
    "# Set the variable gas equal to 21000 units\n",
    "\n",
    "gas = 21000"
   ]
  },
  {
   "cell_type": "code",
   "execution_count": 8,
   "id": "735cf3a6-e882-4c5d-9d8b-b23c01c3fb3f",
   "metadata": {},
   "outputs": [
    {
     "name": "stdout",
     "output_type": "stream",
     "text": [
      "333000000000000000000\n"
     ]
    }
   ],
   "source": [
    "# Convert balance from ether to wei\n",
    "\n",
    "value = w3.toWei(333, 'ether')\n",
    "\n",
    "# Review the value in wei\n",
    "\n",
    "print(value)"
   ]
  },
  {
   "cell_type": "code",
   "execution_count": 9,
   "id": "c00f4b1b-1205-4c8b-a133-15b6c9533ae9",
   "metadata": {},
   "outputs": [
    {
     "name": "stdout",
     "output_type": "stream",
     "text": [
      "b'\\x93K\\x04=\\x0e\\x9dH\\xed\\x93\\xc0Z\\xd7\\xbc\\xb8V\\xd0\\xb3\\xf9\\x0f\\x95\\xc4M\\x011?1\\xf5k\\xdfe,\\xc1'\n"
     ]
    }
   ],
   "source": [
    "# Send the transaction to the blockchain\n",
    "\n",
    "transaction_hash_code = w3.eth.send_transaction({'to': receiver , 'from': sender , 'gas': gas, 'value': value})\n",
    "\n",
    "# Review the tranaction hash code\n",
    "\n",
    "print(transaction_hash_code)"
   ]
  },
  {
   "cell_type": "code",
   "execution_count": 12,
   "id": "e9a5e1c7-bcaa-40ce-ae06-27348809bdff",
   "metadata": {},
   "outputs": [
    {
     "data": {
      "text/plain": [
       "AttributeDict({'nonce': 0,\n",
       " 'from': '0xAbbAcAdaBA000000000000000000000000000007',\n",
       " 'gas': 21000,\n",
       " 'gasPrice': 1,\n",
       " 'to': '0xaBBACADABA000000000000000000000000000005',\n",
       " 'data': '0x',\n",
       " 'value': 333000000000000000000,\n",
       " 'v': 27,\n",
       " 'r': HexBytes('0x3039'),\n",
       " 's': HexBytes('0x010932'),\n",
       " 'hash': HexBytes('0x934b043d0e9d48ed93c05ad7bcb856d0b3f90f95c44d01313f31f56bdf652cc1'),\n",
       " 'blockHash': HexBytes('0xd51cec02c61da0a2718512eef679e2ba582bd3a6f32badf225a2539298a18c2a'),\n",
       " 'blockNumber': 1,\n",
       " 'transactionIndex': 0})"
      ]
     },
     "execution_count": 12,
     "metadata": {},
     "output_type": "execute_result"
    }
   ],
   "source": [
    "# Review the transaction receipt using the HexBytes hash code returned from sending the tranaction\n",
    "\n",
    "w3.eth.getTransaction(b'\\x93K\\x04=\\x0e\\x9dH\\xed\\x93\\xc0Z\\xd7\\xbc\\xb8V\\xd0\\xb3\\xf9\\x0f\\x95\\xc4M\\x011?1\\xf5k\\xdfe,\\xc1')\n"
   ]
  },
  {
   "cell_type": "code",
   "execution_count": 16,
   "id": "a56642a1-6bbd-4880-a98d-ad23a18db58a",
   "metadata": {},
   "outputs": [
    {
     "name": "stdout",
     "output_type": "stream",
     "text": [
      "AttributeDict({'number': 1, 'parentHash': HexBytes('0x654e4616cdf630988c934218b19c4444bd082abb6b6b5f445f8ef38b42a20622'), 'nonce': HexBytes('0x000000000000002a'), 'sha3Uncles': HexBytes('0x1dcc4de8dec75d7aab85b567b6ccd41ad312451b948a7413f0a142fd40d49347'), 'logs_bloom': 0, 'transactionsRoot': HexBytes('0x56e81f171bcc55a6ff8345e692c0f86e5b48e01b996cadc001622fb5e363b421'), 'receipts_root': '0x56e81f171bcc55a6ff8345e692c0f86e5b48e01b996cadc001622fb5e363b421', 'stateRoot': HexBytes('0x56e81f171bcc55a6ff8345e692c0f86e5b48e01b996cadc001622fb5e363b421'), 'miner': '0x0000000000000000000000000000000000000000', 'difficulty': 131072, 'totalDifficulty': 262144, 'size': 0, 'extraData': HexBytes('0x0000000000000000000000000000000000000000000000000000000000000000'), 'gasLimit': 3141592, 'gasUsed': 21000, 'timestamp': 1667610382, 'transactions': [HexBytes('0x934b043d0e9d48ed93c05ad7bcb856d0b3f90f95c44d01313f31f56bdf652cc1')], 'uncles': [], 'hash': HexBytes('0xd51cec02c61da0a2718512eef679e2ba582bd3a6f32badf225a2539298a18c2a')})\n"
     ]
    }
   ],
   "source": [
    "# Review the information from the latest block to confirm your transaction's inclusion\n",
    "\n",
    "latest = w3.eth.get_block('latest')\n",
    "\n",
    "# Review the latest block\n",
    "\n",
    "print(latest)"
   ]
  },
  {
   "cell_type": "code",
   "execution_count": null,
   "id": "a1a73d1b-13d7-44f3-be21-ef824e8d9b2e",
   "metadata": {},
   "outputs": [],
   "source": []
  }
 ],
 "metadata": {
  "kernelspec": {
   "display_name": "Python 3 (ipykernel)",
   "language": "python",
   "name": "python3"
  },
  "language_info": {
   "codemirror_mode": {
    "name": "ipython",
    "version": 3
   },
   "file_extension": ".py",
   "mimetype": "text/x-python",
   "name": "python",
   "nbconvert_exporter": "python",
   "pygments_lexer": "ipython3",
   "version": "3.7.13"
  }
 },
 "nbformat": 4,
 "nbformat_minor": 5
}
