{
 "cells": [
  {
   "cell_type": "code",
   "execution_count": 1,
   "metadata": {},
   "outputs": [],
   "source": [
    "# Imports\n",
    "import os\n",
    "from dotenv import load_dotenv\n",
    "load_dotenv()\n",
    "from bip44 import Wallet\n",
    "from eth_account import Account\n"
   ]
  },
  {
   "cell_type": "code",
   "execution_count": 2,
   "metadata": {},
   "outputs": [
    {
     "data": {
      "text/plain": [
       "str"
      ]
     },
     "execution_count": 2,
     "metadata": {},
     "output_type": "execute_result"
    }
   ],
   "source": [
    "# Load the value of the MNEMONIC variable from the .env file\n",
    "mnemonic = os.getenv('MNEMONIC')\n",
    "\n",
    "type(mnemonic)"
   ]
  },
  {
   "cell_type": "code",
   "execution_count": 3,
   "metadata": {},
   "outputs": [
    {
     "data": {
      "text/plain": [
       "<bip44.wallet.Wallet at 0x1ac2a02e9c8>"
      ]
     },
     "execution_count": 3,
     "metadata": {},
     "output_type": "execute_result"
    }
   ],
   "source": [
    "# Instantiate a new instance of Wallet and pass it the mnemonic variable\n",
    "wallet = Wallet(mnemonic)\n",
    "# Review your wallet instance\n",
    "wallet"
   ]
  },
  {
   "cell_type": "code",
   "execution_count": 4,
   "metadata": {
    "tags": []
   },
   "outputs": [
    {
     "data": {
      "text/plain": [
       "b'\\xfe!\\xdeT\\xc2\\xe8\\x90\\xddL#\\xcdN\\xdb\\x16h\\xcf\\xce]\\xd6\\x95\\r\\xe4\\x8b\\x9e\\xc4\\xec^\\x8aWH\\xa9{'"
      ]
     },
     "execution_count": 4,
     "metadata": {},
     "output_type": "execute_result"
    }
   ],
   "source": [
    "# Calling the derive_account method on your wallet instance\n",
    "# Pass the string eth to the method and the account to get the keys\n",
    "private, public = wallet.derive_account(\"eth\", account=0)\n",
    "# Review the byte string of your private key\n",
    "private"
   ]
  },
  {
   "cell_type": "code",
   "execution_count": 5,
   "metadata": {},
   "outputs": [
    {
     "name": "stdout",
     "output_type": "stream",
     "text": [
      "0xfcd49c0d8072AE5dA4Ca4B831Ab4c7ff5073dd61\n"
     ]
    }
   ],
   "source": [
    "# Construct the Ethereum account by calling Account.privateKeyToAccount\n",
    "# Pass it your private key variable\n",
    "account = Account.privateKeyToAccount(private)\n",
    "# Print account.address to access the address associated with your new Ethereum account\n",
    "print(account.address)"
   ]
  },
  {
   "cell_type": "code",
   "execution_count": 6,
   "metadata": {},
   "outputs": [],
   "source": [
    "# Imports\n",
    "from web3.auto import w3\n",
    "from eth_account.messages import encode_defunct"
   ]
  },
  {
   "cell_type": "code",
   "execution_count": 7,
   "metadata": {},
   "outputs": [
    {
     "data": {
      "text/plain": [
       "SignedMessage(messageHash=HexBytes('0xa2196e42de2efcd261db296b6be244f9e31c20b82d74984fcb1bb1810770866a'), r=17322194361984263410134205638784874778968726608655878359774136404627616195160, s=39244826603446648797335880219866724818796585777402929923002117231524668680074, v=27, signature=HexBytes('0x264c03bab570a4536f9bea337b81611afaed88faa01eabef850699f84f80625856c3c8e2339fc3546eb03190cff59fbeb9d3deb1d4a0d1a8434badd42302a78a1b'))"
      ]
     },
     "execution_count": 7,
     "metadata": {},
     "output_type": "execute_result"
    }
   ],
   "source": [
    "# Create a string message \n",
    "msg = \"Steve owes Johnathan $20\"\n",
    "\n",
    "# Use the encode_defunct message to encode your message string\n",
    "message = encode_defunct(text=msg)\n",
    "# Use w3.eth.account.sign_message to create a signed message\n",
    "# Pass the method your encoded message and private key\n",
    "signed_message = w3.eth.account.sign_message(message, private_key=private)\n",
    "# Review your signed message\n",
    "signed_message"
   ]
  },
  {
   "cell_type": "code",
   "execution_count": 8,
   "metadata": {},
   "outputs": [
    {
     "data": {
      "text/plain": [
       "'0xfcd49c0d8072AE5dA4Ca4B831Ab4c7ff5073dd61'"
      ]
     },
     "execution_count": 8,
     "metadata": {},
     "output_type": "execute_result"
    }
   ],
   "source": [
    "# Call the `w3.eth.account.recover_message` method\n",
    "# Pass your encoded message variable and the message’s signature \n",
    "w3.eth.account.recover_message(message, signature=signed_message.signature)"
   ]
  },
  {
   "cell_type": "code",
   "execution_count": null,
   "metadata": {},
   "outputs": [],
   "source": []
  }
 ],
 "metadata": {
  "kernelspec": {
   "display_name": "Python 3 (ipykernel)",
   "language": "python",
   "name": "python3"
  },
  "language_info": {
   "codemirror_mode": {
    "name": "ipython",
    "version": 3
   },
   "file_extension": ".py",
   "mimetype": "text/x-python",
   "name": "python",
   "nbconvert_exporter": "python",
   "pygments_lexer": "ipython3",
   "version": "3.7.13"
  }
 },
 "nbformat": 4,
 "nbformat_minor": 4
}
